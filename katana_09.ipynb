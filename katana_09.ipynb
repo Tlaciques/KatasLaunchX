{
 "cells": [
  {
   "cell_type": "markdown",
   "metadata": {},
   "source": [
    "### Ejercicio 1\n"
   ]
  },
  {
   "cell_type": "code",
   "execution_count": 14,
   "metadata": {},
   "outputs": [
    {
     "name": "stdout",
     "output_type": "stream",
     "text": [
      "el porcentaje de combustible general es 76.66666666666667\n",
      "el Tanque principal tiene 80% de su capacida total\n",
      "el Tanque secundario tiene 60% de su capacida total\n",
      "el Tanque de emergencia tiene 90% de su capacida total\n"
     ]
    }
   ],
   "source": [
    "\n",
    "\n",
    "\n",
    "def gasReport(pricipal, secundario, respaldo):\n",
    "    porcentaje = (pricipal + secundario + respaldo) / 3\n",
    "    print(\"el porcentaje de combustible general es \" + str(porcentaje) )\n",
    "    print(\"el Tanque principal tiene \" + str(pricipal) + \"% de su capacida total\")\n",
    "    print(\"el Tanque secundario tiene \" + str(secundario) + \"% de su capacida total\")\n",
    "    print(\"el Tanque de emergencia tiene \" + str(respaldo) + \"% de su capacida total\")\n",
    "gasReport(80, 60, 90)    \n",
    "\n"
   ]
  },
  {
   "cell_type": "code",
   "execution_count": 23,
   "metadata": {},
   "outputs": [
    {
     "name": "stdout",
     "output_type": "stream",
     "text": [
      "77\n"
     ]
    }
   ],
   "source": [
    "def promedio(*tnk):\n",
    "    totaltnk = len(tnk)\n",
    "    valuestnk = sum(tnk)\n",
    "    promReal = valuestnk / totaltnk\n",
    "    promReal = round(promReal)\n",
    "    print(str(promReal))\n",
    "    \n",
    "promedio(80,60,90)\n",
    "\n",
    "\n",
    "     "
   ]
  },
  {
   "cell_type": "markdown",
   "metadata": {},
   "source": [
    "### Ejercicio 2\n"
   ]
  },
  {
   "cell_type": "code",
   "execution_count": 32,
   "metadata": {},
   "outputs": [
    {
     "name": "stdout",
     "output_type": "stream",
     "text": [
      "la hora de vuelo estaprogramada para las 1830 hrs\n",
      "Se estima que la duracion del vuelo es de 4 horas\n",
      "El destino del vuelo es  Marte\n",
      "EL porcentaje de combustible del tanque externo es de  90%\n",
      "EL porcentaje de combustible del tanque interno es de  80%\n"
     ]
    }
   ],
   "source": [
    "def informe(hora,vuelo,destino,tnk1,tnk2 ):\n",
    "    print(\"la hora de vuelo estaprogramada para las \" + str(hora) + \" hrs\")\n",
    "    print(\"Se estima que la duracion del vuelo es de \" + str(vuelo) + \" horas\")\n",
    "    print(\"El destino del vuelo es  \" + destino)\n",
    "    print(\"EL porcentaje de combustible del tanque externo es de  \" + str(tnk1) + \"%\")\n",
    "    print(\"EL porcentaje de combustible del tanque interno es de  \" + str(tnk2) + \"%\")\n",
    "    \n",
    "informe(1830,4,'Marte',90,80)"
   ]
  },
  {
   "cell_type": "code",
   "execution_count": 39,
   "metadata": {},
   "outputs": [
    {
     "name": "stdout",
     "output_type": "stream",
     "text": [
      "\n",
      "    El destino del vuelo es: Marte\n",
      "    el viaje tomará : 7.0 hrs desde su despegue\n",
      "    se cuentan con 3 tanques de combustible con una capacidad toal de 2400 litros  \n",
      "    \n"
     ]
    }
   ],
   "source": [
    "def reporte(destino, *tiempo, **tanks):\n",
    "    return f\"\"\"\n",
    "    El destino del vuelo es: {destino}\n",
    "    el viaje tomará : {sum(tiempo)} hrs desde su despegue\n",
    "    se cuentan con {len(tanks)} tanques de combustible con una capacidad toal de {sum(tanks.values())} litros  \n",
    "    \"\"\"\n",
    "       \n",
    "\n",
    "print(reporte(\"Marte\", .5, 1.5, 5, principal=1000, reserva=900, emergencia=500))"
   ]
  },
  {
   "cell_type": "code",
   "execution_count": 44,
   "metadata": {},
   "outputs": [
    {
     "name": "stdout",
     "output_type": "stream",
     "text": [
      "\n",
      "    El destino del vuelo es: Marte\n",
      "    el viaje tomará : 7.0 hrs desde su despegue\n",
      "    se cuentan con 3 tanques de combustible con una capacidad toal de 2400 litros  \n",
      "     tanque : principal  capacidad: 1000 Litros \n",
      " tanque : reserva  capacidad: 900 Litros \n",
      " tanque : emergencia  capacidad: 500 Litros \n",
      "\n"
     ]
    }
   ],
   "source": [
    "def reporte(destino, *tiempo, **tanks):\n",
    "    reporteExtenso = f\"\"\"\n",
    "    El destino del vuelo es: {destino}\n",
    "    el viaje tomará : {sum(tiempo)} hrs desde su despegue\n",
    "    se cuentan con {len(tanks)} tanques de combustible con una capacidad toal de {sum(tanks.values())} litros  \n",
    "    \"\"\"\n",
    "    \n",
    "    for nombre, capacidad in tanks.items():\n",
    "        reporteExtenso += f\" tanque : {nombre}  capacidad: {capacidad} Litros \\n\"\n",
    "    return reporteExtenso\n",
    "\n",
    "print(reporte(\"Marte\", .5, 1.5, 5, principal=1000, reserva=900, emergencia=500))"
   ]
  }
 ],
 "metadata": {
  "interpreter": {
   "hash": "426e1b1a4f3827d58c91aca61728759ddac367b1690351aae126d6f5dc653b63"
  },
  "kernelspec": {
   "display_name": "Python 3.10.2 64-bit (windows store)",
   "language": "python",
   "name": "python3"
  },
  "language_info": {
   "codemirror_mode": {
    "name": "ipython",
    "version": 3
   },
   "file_extension": ".py",
   "mimetype": "text/x-python",
   "name": "python",
   "nbconvert_exporter": "python",
   "pygments_lexer": "ipython3",
   "version": "3.10.2"
  },
  "orig_nbformat": 4
 },
 "nbformat": 4,
 "nbformat_minor": 2
}
