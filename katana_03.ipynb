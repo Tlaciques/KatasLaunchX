{
 "cells": [
  {
   "cell_type": "markdown",
   "metadata": {},
   "source": [
    "## if, else y elif"
   ]
  },
  {
   "cell_type": "code",
   "execution_count": 8,
   "metadata": {},
   "outputs": [
    {
     "name": "stdout",
     "output_type": "stream",
     "text": [
      "¡PELIGRO! Se acerca un asteriode a la tierra a gran velocidad\n"
     ]
    }
   ],
   "source": [
    "velocidadAsteroide = 49\n",
    "velocidadAlerta = 25 \n",
    "if velocidadAsteroide >= velocidadAlerta:\n",
    "    print(\"¡PELIGRO! Se acerca un asteriode a la tierra a gran velocidad\")\n",
    "else:\n",
    "    print(\"El asteroide no representa peligro para la tierra\")"
   ]
  },
  {
   "cell_type": "code",
   "execution_count": 12,
   "metadata": {},
   "outputs": [
    {
     "name": "stdout",
     "output_type": "stream",
     "text": [
      "El asteroide no producirá efectos visibles\n"
     ]
    }
   ],
   "source": [
    "velAsteroide = 19\n",
    "rayoVisible = 20\n",
    "if velAsteroide >= rayoVisible:\n",
    "    print(\"Exploren el cielo, será posible ver un rayo espacial\")\n",
    "else:\n",
    "    print(\"El asteroide no producirá efectos visibles\") "
   ]
  },
  {
   "cell_type": "code",
   "execution_count": 32,
   "metadata": {},
   "outputs": [
    {
     "name": "stdout",
     "output_type": "stream",
     "text": [
      "Podrán presentarse fenomenos visibles por la entrada de un asterode a la tierra\n"
     ]
    }
   ],
   "source": [
    "# consideraciones\n",
    "#peligro: mayor a 25 mts, velocidad superior a 25 k/s, efectos obserbables 20 k/s\n",
    "\n",
    "#datos de control\n",
    "veloAlerta = 25\n",
    "longAlerta = 25\n",
    "rayoVisible = 20\n",
    "\n",
    "#Datos Variables\n",
    "longAsteroide = 20\n",
    "veloAsteroide = 21\n",
    "\n",
    "if veloAsteroide >= veloAlerta or longAsteroide >= longAlerta:\n",
    "       print(\"!PELIGRO¡, Asteroide peligro acercandose a la tierra\")\n",
    "elif  veloAsteroide >= rayoVisible:\n",
    "    print(\"Podrán presentarse fenomenos visibles por la entrada de un asteroide a la tierra\")\n",
    "else:\n",
    "    print(\"El asteroide no representa peligro alguno\")    \n",
    "\n",
    "\n",
    "    \n",
    "\n"
   ]
  }
 ],
 "metadata": {
  "interpreter": {
   "hash": "da6fb90e2df0e966210ebca6633127fc06abeaef585d86fa13a4c1f60e618aba"
  },
  "kernelspec": {
   "display_name": "Python 3.10.2 64-bit",
   "language": "python",
   "name": "python3"
  },
  "language_info": {
   "codemirror_mode": {
    "name": "ipython",
    "version": 3
   },
   "file_extension": ".py",
   "mimetype": "text/x-python",
   "name": "python",
   "nbconvert_exporter": "python",
   "pygments_lexer": "ipython3",
   "version": "3.10.2"
  },
  "orig_nbformat": 4
 },
 "nbformat": 4,
 "nbformat_minor": 2
}
