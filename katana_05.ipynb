{
 "cells": [
  {
   "cell_type": "markdown",
   "metadata": {},
   "source": [
    "## Distancia entre Planetas "
   ]
  },
  {
   "cell_type": "code",
   "execution_count": 14,
   "metadata": {},
   "outputs": [
    {
     "name": "stdout",
     "output_type": "stream",
     "text": [
      "La distancia entre los planetas es 628949330 km\n",
      "La distancia entre los planetas es 390577533.93 millas\n"
     ]
    }
   ],
   "source": [
    "planeta1 = 149597870 #km (tierra)\n",
    "planeta2 = 778547200 #km (jupiter)\n",
    "diferencia = planeta1 - planeta2\n",
    "difKM = abs(diferencia)\n",
    "difML = abs(difKM * 0.621)\n",
    "print(\"La distancia entre los planetas es \" + str(difKM) + \" km\")\n",
    "print(\"La distancia entre los planetas es \" + str(difML) + \" millas\")\n"
   ]
  },
  {
   "cell_type": "markdown",
   "metadata": {},
   "source": [
    "### Ejercicio 2"
   ]
  },
  {
   "cell_type": "code",
   "execution_count": 16,
   "metadata": {},
   "outputs": [
    {
     "name": "stdout",
     "output_type": "stream",
     "text": [
      "La distancia entre los planetas es 1622600000 km\n",
      "La distancia entre los planetas es 1007634600.0 millas\n"
     ]
    }
   ],
   "source": [
    "disPlante1 = input(\"distancia del primer planeta\")\n",
    "disPlante2 = input(\"distancia del segundo planeta\")\n",
    "\n",
    "disPlante1 = int(disPlante1)\n",
    "disPlante2 = int(disPlante2)\n",
    "\n",
    "\n",
    "diferencia = disPlante1 - disPlante2\n",
    "difKM = abs(diferencia)\n",
    "difML = abs(difKM * 0.621)\n",
    "print(\"La distancia entre los planetas es \" + str(difKM) + \" km\")\n",
    "print(\"La distancia entre los planetas es \" + str(difML) + \" millas\")"
   ]
  },
  {
   "cell_type": "code",
   "execution_count": null,
   "metadata": {},
   "outputs": [],
   "source": [
    "\n"
   ]
  }
 ],
 "metadata": {
  "interpreter": {
   "hash": "1d57d8a35e67685e8a3651aa00f1aa9c624f16f1c931fb78d9563a073690f130"
  },
  "kernelspec": {
   "display_name": "Python 3.10.2 64-bit (windows store)",
   "language": "python",
   "name": "python3"
  },
  "language_info": {
   "codemirror_mode": {
    "name": "ipython",
    "version": 3
   },
   "file_extension": ".py",
   "mimetype": "text/x-python",
   "name": "python",
   "nbconvert_exporter": "python",
   "pygments_lexer": "ipython3",
   "version": "3.10.2"
  },
  "orig_nbformat": 4
 },
 "nbformat": 4,
 "nbformat_minor": 2
}
